{
 "cells": [
  {
   "cell_type": "markdown",
   "id": "a6fb0c66",
   "metadata": {},
   "source": [
    "# Chatea con modelos de visión\n",
    "\n",
    "**Si estás buscando la aplicación web, revisa la carpeta src/.**\n",
    "\n",
    "Este notebook solo se proporciona para experimentar manualmente con el modelo de visión."
   ]
  },
  {
   "cell_type": "markdown",
   "id": "e8390ffb",
   "metadata": {},
   "source": [
    "## Autentícate en OpenAI\n",
    "\n",
    "El siguiente código se conecta a OpenAI, ya sea usando una cuenta de Azure OpenAI, modelos de GitHub, o modelo local de Ollama. Mira el README para instrucciones sobre cómo configurar el archivo `.env`."
   ]
  },
  {
   "cell_type": "code",
   "execution_count": 1,
   "id": "3c2e70bb",
   "metadata": {},
   "outputs": [
    {
     "name": "stdout",
     "output_type": "stream",
     "text": [
      "Usando GitHub Models con GITHUB_TOKEN como clave\n",
      "Usando modelo openai/gpt-4o\n"
     ]
    }
   ],
   "source": [
    "import os\n",
    "import openai\n",
    "\n",
    "# GitHub Models client configuration\n",
    "print(\"Usando GitHub Models con GITHUB_TOKEN como clave\")\n",
    "openai_client = openai.OpenAI(\n",
    "    api_key=os.environ[\"GITHUB_TOKEN\"],\n",
    "    base_url=\"https://models.github.ai/inference\",\n",
    ")\n",
    "model_name = os.getenv(\"GITHUB_MODEL\", \"openai/gpt-4o\")\n",
    "\n",
    "print(f\"Usando modelo {model_name}\")"
   ]
  },
  {
   "cell_type": "markdown",
   "id": "2b094d4b",
   "metadata": {},
   "source": [
    "## Envía una imagen por URL"
   ]
  },
  {
   "cell_type": "code",
   "execution_count": 2,
   "id": "28773b5a",
   "metadata": {},
   "outputs": [
    {
     "name": "stdout",
     "output_type": "stream",
     "text": [
      "No, no es un unicornio. Es un toro con dos cuernos, como los típicos de esta especie. Los unicornios, según la mitología, son criaturas con un solo cuerno en la frente.\n"
     ]
    }
   ],
   "source": [
    "messages = [\n",
    "    {\n",
    "        \"role\": \"user\",\n",
    "        \"content\": [\n",
    "            {\"text\": \"¿es un unicornio?\", \"type\": \"text\"},\n",
    "            {\n",
    "                \"image_url\": {\"url\": \"https://upload.wikimedia.org/wikipedia/commons/6/6e/Ur-painting.jpg\"},\n",
    "                \"type\": \"image_url\",\n",
    "            },\n",
    "        ],\n",
    "    }\n",
    "]\n",
    "response = openai_client.chat.completions.create(model=model_name, messages=messages)\n",
    "\n",
    "print(response.choices[0].message.content)"
   ]
  },
  {
   "cell_type": "markdown",
   "id": "ad23a842",
   "metadata": {},
   "source": [
    "## Envía una imagen por Data URI\n",
    "\n"
   ]
  },
  {
   "cell_type": "code",
   "execution_count": 3,
   "id": "d7d970ab",
   "metadata": {},
   "outputs": [],
   "source": [
    "import base64\n",
    "\n",
    "\n",
    "def open_image_as_base64(filename):\n",
    "    with open(filename, \"rb\") as image_file:\n",
    "        image_data = image_file.read()\n",
    "    image_base64 = base64.b64encode(image_data).decode(\"utf-8\")\n",
    "    return f\"data:image/png;base64,{image_base64}\""
   ]
  },
  {
   "cell_type": "code",
   "execution_count": 7,
   "id": "1579e9e3",
   "metadata": {},
   "outputs": [
    {
     "name": "stdout",
     "output_type": "stream",
     "text": [
      "En la imagen se observan **cocodrilos**, probablemente cocodrilos del género *Crocodylus*. Aunque puede ser difícil diferenciarlos de los caimanes solo por la imagen, los cocodrilos suelen tener un hocico más largo y puntiagudo, con dientes visibles incluso cuando la boca está cerrada, características que parecen coincidir con los animales en la fotografía.\n"
     ]
    }
   ],
   "source": [
    "response = openai_client.chat.completions.create(\n",
    "    model=model_name,\n",
    "    messages=[\n",
    "        {\n",
    "            \"role\": \"user\",\n",
    "            \"content\": [\n",
    "                {\"text\": \"¿estos son cocodrilos o caimanes?\", \"type\": \"text\"},\n",
    "                {\"image_url\": {\"url\": open_image_as_base64(\"img/mystery_reptile.png\")}, \"type\": \"image_url\"},\n",
    "            ],\n",
    "        }\n",
    "    ],\n",
    ")\n",
    "\n",
    "print(response.choices[0].message.content)"
   ]
  },
  {
   "cell_type": "markdown",
   "id": "ba4ade9a",
   "metadata": {},
   "source": [
    "## Casos de uso para análisis de imágenes"
   ]
  },
  {
   "cell_type": "markdown",
   "id": "37a54c5e",
   "metadata": {},
   "source": [
    "### Accesibilidad"
   ]
  },
  {
   "cell_type": "markdown",
   "id": "b67d1ea4",
   "metadata": {},
   "source": [
    "#### Asistencia para personas con discapacidad visual"
   ]
  },
  {
   "cell_type": "code",
   "execution_count": 9,
   "id": "2e60a3bc",
   "metadata": {},
   "outputs": [
    {
     "name": "stdout",
     "output_type": "stream",
     "text": [
      "El menú no parece tener opciones específicamente etiquetadas como veganas. Sin embargo, podrías considerar algunas opciones modificadas o preguntar en el restaurante si pueden adaptarlas. Aquí te dejo algunas ideas:\n",
      "\n",
      "1. **Spinaci Soffritti (Antipasti)**: Las espinacas salteadas con limón y ajo podrían ser veganas, pero sería bueno confirmar si no usan mantequilla u otros ingredientes no veganos.\n",
      "\n",
      "2. **Insalata di Mista (Zuppe & Insalate)**: Una ensalada de verdes mixtos con vinagreta podría ser vegana si confirmas que la vinagreta no contiene ingredientes no veganos como miel.\n",
      "\n",
      "3. **Panzanella con Fagioli (Zuppe & Insalate)**: La ensalada de pan con frijoles y vegetales podría ser apta para veganos si no incluye derivados lácteos o si se elimina el queso y verificas el pan.\n",
      "\n",
      "4. **Zuppa di Cavolo (Zuppe & Insalate)**: La crema de coliflor gratinada podría adaptarse, pero es probable que incluyan mantequilla o crema. Pregunta si es posible modificarla.\n",
      "\n",
      "Para asegurarte, lo mejor sería preguntar directamente en el restaurante sobre ingredientes y si pueden hacer adaptaciones para hacerlo adecuado a una dieta vegana.\n"
     ]
    }
   ],
   "source": [
    "response = openai_client.chat.completions.create(\n",
    "    model=model_name,\n",
    "    messages=[\n",
    "        {\n",
    "            \"role\": \"user\",\n",
    "            \"content\": [\n",
    "                {\"text\": \"¿hay algo bueno para veganos en este menú?\", \"type\": \"text\"},\n",
    "                {\"image_url\": {\"url\": open_image_as_base64(\"img/menu.png\")}, \"type\": \"image_url\"},\n",
    "            ],\n",
    "        }\n",
    "    ],\n",
    ")\n",
    "\n",
    "print(response.choices[0].message.content)"
   ]
  },
  {
   "cell_type": "markdown",
   "id": "f4adb316",
   "metadata": {},
   "source": [
    "#### Subtítulos automáticos de imágenes"
   ]
  },
  {
   "cell_type": "code",
   "execution_count": 12,
   "id": "92bb77dc",
   "metadata": {},
   "outputs": [
    {
     "name": "stdout",
     "output_type": "stream",
     "text": [
      "Diagrama que representa una arquitectura en Azure para una aplicación de contenedor. En el centro está el \"Container App\" que se conecta hacia varias entidades:  \n",
      "1. **Container Apps Environment** (entorno de aplicaciones de contenedor) que alberga la aplicación.  \n",
      "2. **Azure AI Services** (servicios de inteligencia artificial).  \n",
      "3. **Managed Identity** (identidad administrada) para el manejo de permisos seguros.  \n",
      "4. **Log Analytics Workspace** (espacio de trabajo de análisis de logs) para monitoreo y generación de registros.  \n",
      "5. **Container Registry** (registro de contenedores), para almacenar imágenes de contenedores.  \n",
      "6. **Key Vault** (bóveda de claves) para gestionar secretos y claves de acceso.  \n",
      "\n",
      "El flujo muestra cómo estos componentes están relacionados para crear una solución funcional basada en contenedores, utilizando herramientas nativas de Azure. \n"
     ]
    }
   ],
   "source": [
    "response = openai_client.chat.completions.create(\n",
    "    model=model_name,\n",
    "    messages=[\n",
    "        {\n",
    "            \"role\": \"user\",\n",
    "            \"content\": [\n",
    "                {\"text\": \"Sugiere un texto alternativo para esta imagen\", \"type\": \"text\"},\n",
    "                {\"image_url\": {\"url\": open_image_as_base64(\"img/azure_arch.png\")}, \"type\": \"image_url\"},\n",
    "            ],\n",
    "        }\n",
    "    ],\n",
    ")\n",
    "\n",
    "print(response.choices[0].message.content)"
   ]
  },
  {
   "cell_type": "markdown",
   "id": "69873fb0",
   "metadata": {},
   "source": [
    "### Automatización de procesos de negocio"
   ]
  },
  {
   "cell_type": "markdown",
   "id": "1bacd251",
   "metadata": {},
   "source": [
    "#### Procesamiento de reclamaciones de seguros"
   ]
  },
  {
   "cell_type": "code",
   "execution_count": 13,
   "id": "e5998961",
   "metadata": {},
   "outputs": [
    {
     "name": "stdout",
     "output_type": "stream",
     "text": [
      "No, esta reclamación no es válida si se atribuye a daños por granizo. Los daños ocasionados por granizo suelen consistir en múltiples pequeñas abolladuras en la superficie del vehículo, principalmente en el techo, el capó y el maletero, y no causan una deformación severa o una destrucción extensa de la carrocería como se observa en la imagen. El daño en esta foto es más consistente con un impacto frontal, posiblemente con otro vehículo u objeto grande.\n"
     ]
    }
   ],
   "source": [
    "response = openai_client.chat.completions.create(\n",
    "    model=model_name,\n",
    "    messages=[\n",
    "        {\n",
    "            \"role\": \"system\",\n",
    "            \"content\": (\n",
    "                \"Eres un asistente de IA que ayuda a las compañías de seguros de autos a procesar reclamaciones. \"\n",
    "                \"Aceptas imágenes de autos dañados que se envían con las reclamaciones, y puedes hacer juicios \"\n",
    "                \"sobre las causas del daño automovilístico y la validez de las reclamaciones sobre ese daño.\"\n",
    "            ),\n",
    "        },\n",
    "        {\n",
    "            \"role\": \"user\",\n",
    "            \"content\": [\n",
    "                {\"text\": \"La reclamación dice que este daño es por granizo. ¿Es válida?\", \"type\": \"text\"},\n",
    "                {\"image_url\": {\"url\": open_image_as_base64(\"img/dented_car.jpg\")}, \"type\": \"image_url\"},\n",
    "            ],\n",
    "        },\n",
    "    ],\n",
    ")\n",
    "\n",
    "print(response.choices[0].message.content)"
   ]
  },
  {
   "cell_type": "markdown",
   "id": "0cd4304a",
   "metadata": {},
   "source": [
    "#### Análisis de gráficos"
   ]
  },
  {
   "cell_type": "code",
   "execution_count": 14,
   "id": "2e17e551",
   "metadata": {},
   "outputs": [
    {
     "name": "stdout",
     "output_type": "stream",
     "text": [
      "Según el gráfico, la zona tropical está perdiendo más árboles. Esto se puede observar en las barras verdes oscuras, que tienen las pérdidas más significativas en comparación con las otras zonas climáticas (boreal, templada y subtropical).\n"
     ]
    }
   ],
   "source": [
    "messages = [\n",
    "    {\n",
    "        \"role\": \"user\",\n",
    "        \"content\": [\n",
    "            {\"text\": \"¿En qué zona estamos perdiendo más árboles?\", \"type\": \"text\"},\n",
    "            {\n",
    "                \"image_url\": {\n",
    "                    \"url\": \"https://upload.wikimedia.org/wikipedia/commons/thumb/1/1f/20210331_Global_tree_cover_loss_-_World_Resources_Institute.svg/1280px-20210331_Global_tree_cover_loss_-_World_Resources_Institute.svg.png\"\n",
    "                },\n",
    "                \"type\": \"image_url\",\n",
    "            },\n",
    "        ],\n",
    "    }\n",
    "]\n",
    "response = openai_client.chat.completions.create(model=model_name, messages=messages)\n",
    "\n",
    "print(response.choices[0].message.content)"
   ]
  },
  {
   "cell_type": "markdown",
   "id": "61036a69",
   "metadata": {},
   "source": [
    "#### Análisis de tablas"
   ]
  },
  {
   "cell_type": "code",
   "execution_count": 15,
   "id": "ea9aa772",
   "metadata": {},
   "outputs": [
    {
     "name": "stdout",
     "output_type": "stream",
     "text": [
      "La planta más barata en esta lista es **Agrostis pallens (Thingrass)**, con un precio de **$0.58**.\n"
     ]
    }
   ],
   "source": [
    "response = openai_client.chat.completions.create(\n",
    "    model=model_name,\n",
    "    messages=[\n",
    "        {\n",
    "            \"role\": \"user\",\n",
    "            \"content\": [\n",
    "                {\"text\": \"¿Cuál es la planta más barata?\", \"type\": \"text\"},\n",
    "                {\"image_url\": {\"url\": open_image_as_base64(\"img/page_0.png\")}, \"type\": \"image_url\"},\n",
    "            ],\n",
    "        }\n",
    "    ],\n",
    ")\n",
    "\n",
    "print(response.choices[0].message.content)"
   ]
  },
  {
   "cell_type": "markdown",
   "id": "7036400e",
   "metadata": {},
   "source": [
    "#### Soporte de electrodomésticos"
   ]
  },
  {
   "cell_type": "code",
   "execution_count": 16,
   "id": "eb382457",
   "metadata": {},
   "outputs": [
    {
     "name": "stdout",
     "output_type": "stream",
     "text": [
      "Si deseas lavar los platos rápidamente con este lavavajillas, sigue estos pasos:\n",
      "\n",
      "1. **Enciende el lavavajillas** presionando el botón de encendido/apagado (\"On/Off\").\n",
      "2. Selecciona el programa llamado **\"Quick 45°\"** (tercer botón desde la derecha en la fila superior). Este programa está diseñado para un lavado rápido a 45 °C.\n",
      "3. Opcionalmente, si tienes menos cantidad de platos, puedes presionar el botón **\"Half Load\"** (segundo botón desde la derecha en la fila inferior) para optimizar agua y energía.\n",
      "4. Si deseas acelerar aún más el ciclo, también puedes presionar el botón **\"Vario Speed\"** (segundo botón desde la derecha en la fila inferior). Esto reduce el tiempo total de lavado, aunque puede consumir más agua y energía.\n",
      "5. Una vez configurado, presiona **\"Start\"** (botón de la esquina inferior derecha) para iniciar el ciclo.\n",
      "\n",
      "¡Y listo! Tendrás tus platos lavados rápidamente.\n"
     ]
    }
   ],
   "source": [
    "response = openai_client.chat.completions.create(\n",
    "    model=model_name,\n",
    "    messages=[\n",
    "        {\n",
    "            \"role\": \"user\",\n",
    "            \"content\": [\n",
    "                {\"text\": \"¿Cómo configuro esto para lavar los platos rápidamente?\", \"type\": \"text\"},\n",
    "                {\"image_url\": {\"url\": open_image_as_base64(\"img/dishwasher.png\")}, \"type\": \"image_url\"},\n",
    "            ],\n",
    "        }\n",
    "    ],\n",
    ")\n",
    "\n",
    "print(response.choices[0].message.content)"
   ]
  }
 ],
 "metadata": {
  "kernelspec": {
   "display_name": "Python 3",
   "language": "python",
   "name": "python3"
  },
  "language_info": {
   "codemirror_mode": {
    "name": "ipython",
    "version": 3
   },
   "file_extension": ".py",
   "mimetype": "text/x-python",
   "name": "python",
   "nbconvert_exporter": "python",
   "pygments_lexer": "ipython3",
   "version": "3.12.1"
  }
 },
 "nbformat": 4,
 "nbformat_minor": 5
}
